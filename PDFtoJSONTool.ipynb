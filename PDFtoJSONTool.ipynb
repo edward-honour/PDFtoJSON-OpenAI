{
  "nbformat": 4,
  "nbformat_minor": 0,
  "metadata": {
    "colab": {
      "provenance": [],
      "authorship_tag": "ABX9TyPKQN0S5S11wg6HbvKiwOvN",
      "include_colab_link": true
    },
    "kernelspec": {
      "name": "python3",
      "display_name": "Python 3"
    },
    "language_info": {
      "name": "python"
    }
  },
  "cells": [
    {
      "cell_type": "markdown",
      "metadata": {
        "id": "view-in-github",
        "colab_type": "text"
      },
      "source": [
        "<a href=\"https://colab.research.google.com/github/edward-honour/PDFtoJSON-OpenAI/blob/main/PDFtoJSONTool.ipynb\" target=\"_parent\"><img src=\"https://colab.research.google.com/assets/colab-badge.svg\" alt=\"Open In Colab\"/></a>"
      ]
    },
    {
      "cell_type": "markdown",
      "source": [],
      "metadata": {
        "id": "46pGrKnGsNde"
      }
    },
    {
      "cell_type": "markdown",
      "source": [
        "**PIP install required Libraries.**\n",
        "\n",
        "For this demo we are using:\n",
        "\n",
        "*   openai - to call the LLM\n",
        "*   pdfminer.six - to extract text from a PDF.\n"
      ],
      "metadata": {
        "id": "YFR123xBfICy"
      }
    },
    {
      "cell_type": "code",
      "execution_count": 1,
      "metadata": {
        "colab": {
          "base_uri": "https://localhost:8080/"
        },
        "id": "V0Epy785e4af",
        "outputId": "75191a44-7739-4677-a08c-1a83f208f007"
      },
      "outputs": [
        {
          "output_type": "stream",
          "name": "stdout",
          "text": [
            "Requirement already satisfied: openai in /usr/local/lib/python3.11/dist-packages (1.78.0)\n",
            "Collecting pdfminer.six\n",
            "  Downloading pdfminer_six-20250506-py3-none-any.whl.metadata (4.2 kB)\n",
            "Requirement already satisfied: anyio<5,>=3.5.0 in /usr/local/lib/python3.11/dist-packages (from openai) (4.9.0)\n",
            "Requirement already satisfied: distro<2,>=1.7.0 in /usr/local/lib/python3.11/dist-packages (from openai) (1.9.0)\n",
            "Requirement already satisfied: httpx<1,>=0.23.0 in /usr/local/lib/python3.11/dist-packages (from openai) (0.28.1)\n",
            "Requirement already satisfied: jiter<1,>=0.4.0 in /usr/local/lib/python3.11/dist-packages (from openai) (0.9.0)\n",
            "Requirement already satisfied: pydantic<3,>=1.9.0 in /usr/local/lib/python3.11/dist-packages (from openai) (2.11.4)\n",
            "Requirement already satisfied: sniffio in /usr/local/lib/python3.11/dist-packages (from openai) (1.3.1)\n",
            "Requirement already satisfied: tqdm>4 in /usr/local/lib/python3.11/dist-packages (from openai) (4.67.1)\n",
            "Requirement already satisfied: typing-extensions<5,>=4.11 in /usr/local/lib/python3.11/dist-packages (from openai) (4.13.2)\n",
            "Requirement already satisfied: charset-normalizer>=2.0.0 in /usr/local/lib/python3.11/dist-packages (from pdfminer.six) (3.4.2)\n",
            "Requirement already satisfied: cryptography>=36.0.0 in /usr/local/lib/python3.11/dist-packages (from pdfminer.six) (43.0.3)\n",
            "Requirement already satisfied: idna>=2.8 in /usr/local/lib/python3.11/dist-packages (from anyio<5,>=3.5.0->openai) (3.10)\n",
            "Requirement already satisfied: cffi>=1.12 in /usr/local/lib/python3.11/dist-packages (from cryptography>=36.0.0->pdfminer.six) (1.17.1)\n",
            "Requirement already satisfied: certifi in /usr/local/lib/python3.11/dist-packages (from httpx<1,>=0.23.0->openai) (2025.4.26)\n",
            "Requirement already satisfied: httpcore==1.* in /usr/local/lib/python3.11/dist-packages (from httpx<1,>=0.23.0->openai) (1.0.9)\n",
            "Requirement already satisfied: h11>=0.16 in /usr/local/lib/python3.11/dist-packages (from httpcore==1.*->httpx<1,>=0.23.0->openai) (0.16.0)\n",
            "Requirement already satisfied: annotated-types>=0.6.0 in /usr/local/lib/python3.11/dist-packages (from pydantic<3,>=1.9.0->openai) (0.7.0)\n",
            "Requirement already satisfied: pydantic-core==2.33.2 in /usr/local/lib/python3.11/dist-packages (from pydantic<3,>=1.9.0->openai) (2.33.2)\n",
            "Requirement already satisfied: typing-inspection>=0.4.0 in /usr/local/lib/python3.11/dist-packages (from pydantic<3,>=1.9.0->openai) (0.4.0)\n",
            "Requirement already satisfied: pycparser in /usr/local/lib/python3.11/dist-packages (from cffi>=1.12->cryptography>=36.0.0->pdfminer.six) (2.22)\n",
            "Downloading pdfminer_six-20250506-py3-none-any.whl (5.6 MB)\n",
            "\u001b[2K   \u001b[90m━━━━━━━━━━━━━━━━━━━━━━━━━━━━━━━━━━━━━━━━\u001b[0m \u001b[32m5.6/5.6 MB\u001b[0m \u001b[31m36.9 MB/s\u001b[0m eta \u001b[36m0:00:00\u001b[0m\n",
            "\u001b[?25hInstalling collected packages: pdfminer.six\n",
            "Successfully installed pdfminer.six-20250506\n"
          ]
        }
      ],
      "source": [
        "!pip install openai pdfminer.six"
      ]
    },
    {
      "cell_type": "markdown",
      "source": [
        "**Import the OpenAI API Key from Colab Secrets**\n",
        "\n",
        "We need to get the OpenAI from the secrets in Google Colab and put it in 'api_key' and then create a 'client' object that will be used later.\n"
      ],
      "metadata": {
        "id": "kr0B2mhlfsx4"
      }
    },
    {
      "cell_type": "code",
      "source": [
        "from google.colab import userdata\n",
        "import openai\n",
        "\n",
        "api_key = userdata.get(\"OpenAI\")\n",
        "\n",
        "if not api_key:\n",
        "    raise ValueError(\"❌ OpenAI API key not found. Use `userdata.set('OpenAI', 'sk-...')` first.\")\n",
        "\n",
        "client = openai.OpenAI(api_key=api_key)"
      ],
      "metadata": {
        "id": "jEACsdGSfZJT"
      },
      "execution_count": 2,
      "outputs": []
    },
    {
      "cell_type": "markdown",
      "source": [
        "**Upload the PDF File to Process**\n",
        "\n",
        "We use the files library from google colab to upload the file we want to process.\n"
      ],
      "metadata": {
        "id": "c6EI40TTf3aD"
      }
    },
    {
      "cell_type": "code",
      "source": [
        "from google.colab import files\n",
        "\n",
        "uploaded = files.upload()  # Upload a health report PDF\n",
        "pdf_filename = list(uploaded.keys())[0]\n",
        "print(f\"📄 Uploaded: {pdf_filename}\")\n"
      ],
      "metadata": {
        "colab": {
          "base_uri": "https://localhost:8080/",
          "height": 92
        },
        "id": "KzXegDcfgaYa",
        "outputId": "13508fe5-9afa-4f0c-82c9-9d64e83c244b"
      },
      "execution_count": 3,
      "outputs": [
        {
          "output_type": "display_data",
          "data": {
            "text/plain": [
              "<IPython.core.display.HTML object>"
            ],
            "text/html": [
              "\n",
              "     <input type=\"file\" id=\"files-3329e6ad-c6e6-4ad3-824d-024c2f300ba0\" name=\"files[]\" multiple disabled\n",
              "        style=\"border:none\" />\n",
              "     <output id=\"result-3329e6ad-c6e6-4ad3-824d-024c2f300ba0\">\n",
              "      Upload widget is only available when the cell has been executed in the\n",
              "      current browser session. Please rerun this cell to enable.\n",
              "      </output>\n",
              "      <script>// Copyright 2017 Google LLC\n",
              "//\n",
              "// Licensed under the Apache License, Version 2.0 (the \"License\");\n",
              "// you may not use this file except in compliance with the License.\n",
              "// You may obtain a copy of the License at\n",
              "//\n",
              "//      http://www.apache.org/licenses/LICENSE-2.0\n",
              "//\n",
              "// Unless required by applicable law or agreed to in writing, software\n",
              "// distributed under the License is distributed on an \"AS IS\" BASIS,\n",
              "// WITHOUT WARRANTIES OR CONDITIONS OF ANY KIND, either express or implied.\n",
              "// See the License for the specific language governing permissions and\n",
              "// limitations under the License.\n",
              "\n",
              "/**\n",
              " * @fileoverview Helpers for google.colab Python module.\n",
              " */\n",
              "(function(scope) {\n",
              "function span(text, styleAttributes = {}) {\n",
              "  const element = document.createElement('span');\n",
              "  element.textContent = text;\n",
              "  for (const key of Object.keys(styleAttributes)) {\n",
              "    element.style[key] = styleAttributes[key];\n",
              "  }\n",
              "  return element;\n",
              "}\n",
              "\n",
              "// Max number of bytes which will be uploaded at a time.\n",
              "const MAX_PAYLOAD_SIZE = 100 * 1024;\n",
              "\n",
              "function _uploadFiles(inputId, outputId) {\n",
              "  const steps = uploadFilesStep(inputId, outputId);\n",
              "  const outputElement = document.getElementById(outputId);\n",
              "  // Cache steps on the outputElement to make it available for the next call\n",
              "  // to uploadFilesContinue from Python.\n",
              "  outputElement.steps = steps;\n",
              "\n",
              "  return _uploadFilesContinue(outputId);\n",
              "}\n",
              "\n",
              "// This is roughly an async generator (not supported in the browser yet),\n",
              "// where there are multiple asynchronous steps and the Python side is going\n",
              "// to poll for completion of each step.\n",
              "// This uses a Promise to block the python side on completion of each step,\n",
              "// then passes the result of the previous step as the input to the next step.\n",
              "function _uploadFilesContinue(outputId) {\n",
              "  const outputElement = document.getElementById(outputId);\n",
              "  const steps = outputElement.steps;\n",
              "\n",
              "  const next = steps.next(outputElement.lastPromiseValue);\n",
              "  return Promise.resolve(next.value.promise).then((value) => {\n",
              "    // Cache the last promise value to make it available to the next\n",
              "    // step of the generator.\n",
              "    outputElement.lastPromiseValue = value;\n",
              "    return next.value.response;\n",
              "  });\n",
              "}\n",
              "\n",
              "/**\n",
              " * Generator function which is called between each async step of the upload\n",
              " * process.\n",
              " * @param {string} inputId Element ID of the input file picker element.\n",
              " * @param {string} outputId Element ID of the output display.\n",
              " * @return {!Iterable<!Object>} Iterable of next steps.\n",
              " */\n",
              "function* uploadFilesStep(inputId, outputId) {\n",
              "  const inputElement = document.getElementById(inputId);\n",
              "  inputElement.disabled = false;\n",
              "\n",
              "  const outputElement = document.getElementById(outputId);\n",
              "  outputElement.innerHTML = '';\n",
              "\n",
              "  const pickedPromise = new Promise((resolve) => {\n",
              "    inputElement.addEventListener('change', (e) => {\n",
              "      resolve(e.target.files);\n",
              "    });\n",
              "  });\n",
              "\n",
              "  const cancel = document.createElement('button');\n",
              "  inputElement.parentElement.appendChild(cancel);\n",
              "  cancel.textContent = 'Cancel upload';\n",
              "  const cancelPromise = new Promise((resolve) => {\n",
              "    cancel.onclick = () => {\n",
              "      resolve(null);\n",
              "    };\n",
              "  });\n",
              "\n",
              "  // Wait for the user to pick the files.\n",
              "  const files = yield {\n",
              "    promise: Promise.race([pickedPromise, cancelPromise]),\n",
              "    response: {\n",
              "      action: 'starting',\n",
              "    }\n",
              "  };\n",
              "\n",
              "  cancel.remove();\n",
              "\n",
              "  // Disable the input element since further picks are not allowed.\n",
              "  inputElement.disabled = true;\n",
              "\n",
              "  if (!files) {\n",
              "    return {\n",
              "      response: {\n",
              "        action: 'complete',\n",
              "      }\n",
              "    };\n",
              "  }\n",
              "\n",
              "  for (const file of files) {\n",
              "    const li = document.createElement('li');\n",
              "    li.append(span(file.name, {fontWeight: 'bold'}));\n",
              "    li.append(span(\n",
              "        `(${file.type || 'n/a'}) - ${file.size} bytes, ` +\n",
              "        `last modified: ${\n",
              "            file.lastModifiedDate ? file.lastModifiedDate.toLocaleDateString() :\n",
              "                                    'n/a'} - `));\n",
              "    const percent = span('0% done');\n",
              "    li.appendChild(percent);\n",
              "\n",
              "    outputElement.appendChild(li);\n",
              "\n",
              "    const fileDataPromise = new Promise((resolve) => {\n",
              "      const reader = new FileReader();\n",
              "      reader.onload = (e) => {\n",
              "        resolve(e.target.result);\n",
              "      };\n",
              "      reader.readAsArrayBuffer(file);\n",
              "    });\n",
              "    // Wait for the data to be ready.\n",
              "    let fileData = yield {\n",
              "      promise: fileDataPromise,\n",
              "      response: {\n",
              "        action: 'continue',\n",
              "      }\n",
              "    };\n",
              "\n",
              "    // Use a chunked sending to avoid message size limits. See b/62115660.\n",
              "    let position = 0;\n",
              "    do {\n",
              "      const length = Math.min(fileData.byteLength - position, MAX_PAYLOAD_SIZE);\n",
              "      const chunk = new Uint8Array(fileData, position, length);\n",
              "      position += length;\n",
              "\n",
              "      const base64 = btoa(String.fromCharCode.apply(null, chunk));\n",
              "      yield {\n",
              "        response: {\n",
              "          action: 'append',\n",
              "          file: file.name,\n",
              "          data: base64,\n",
              "        },\n",
              "      };\n",
              "\n",
              "      let percentDone = fileData.byteLength === 0 ?\n",
              "          100 :\n",
              "          Math.round((position / fileData.byteLength) * 100);\n",
              "      percent.textContent = `${percentDone}% done`;\n",
              "\n",
              "    } while (position < fileData.byteLength);\n",
              "  }\n",
              "\n",
              "  // All done.\n",
              "  yield {\n",
              "    response: {\n",
              "      action: 'complete',\n",
              "    }\n",
              "  };\n",
              "}\n",
              "\n",
              "scope.google = scope.google || {};\n",
              "scope.google.colab = scope.google.colab || {};\n",
              "scope.google.colab._files = {\n",
              "  _uploadFiles,\n",
              "  _uploadFilesContinue,\n",
              "};\n",
              "})(self);\n",
              "</script> "
            ]
          },
          "metadata": {}
        },
        {
          "output_type": "stream",
          "name": "stdout",
          "text": [
            "Saving SampleHealthReport.pdf to SampleHealthReport.pdf\n",
            "📄 Uploaded: SampleHealthReport.pdf\n"
          ]
        }
      ]
    },
    {
      "cell_type": "markdown",
      "source": [
        "**Define the Function Schema**\n",
        "\n",
        "The function schema is like a contract or blueprint that tells GPT:\n",
        "\n",
        "“You are not just generating text. You are calling a function named extract_patient_info, and here’s what the input should look like.”\n",
        "\n",
        "It's based on JSON Schema standards and includes:\n",
        "\n",
        "*   **\"name\"**\tThe name of the virtual function GPT is calling\n",
        "*   **\"description\"**\tHelps the model understand what the function is for\n",
        "*   **\"parameters\"**\tSpecifies the expected structure of the output (a JSON object)\n",
        "*   **\"properties\"**\tLists all fields we want from the report\n",
        "*   **\"required\"**\tTells GPT which fields are mandatory\n"
      ],
      "metadata": {
        "id": "IGK3dKWHg1Yi"
      }
    },
    {
      "cell_type": "code",
      "source": [
        "patient_info_function = {\n",
        "    \"name\": \"extract_patient_info\",\n",
        "    \"description\": \"Extracts key personal fields from a health report.\",\n",
        "    \"parameters\": {\n",
        "        \"type\": \"object\",\n",
        "        \"properties\": {\n",
        "            \"name\": {\"type\": \"string\"},\n",
        "            \"patient_id\": {\"type\": \"string\"},\n",
        "            \"mrn\": {\"type\": [\"string\", \"null\"]},\n",
        "            \"birth_date\": {\"type\": \"string\", \"format\": \"date\"},\n",
        "            \"age\": {\"type\": \"integer\"},\n",
        "            \"gender\": {\"type\": \"string\"},\n",
        "            \"address\": {\"type\": \"string\"},\n",
        "            \"phone\": {\n",
        "                \"type\": \"object\",\n",
        "                \"properties\": {\n",
        "                    \"home\": {\"type\": [\"string\", \"null\"]},\n",
        "                    \"work\": {\"type\": [\"string\", \"null\"]},\n",
        "                    \"cell\": {\"type\": [\"string\", \"null\"]}\n",
        "                }\n",
        "            },\n",
        "            \"email\": {\"type\": \"string\"},\n",
        "            \"provider\": {\"type\": \"string\"},\n",
        "            \"referring_provider\": {\"type\": \"string\"},\n",
        "            \"print_date\": {\"type\": \"string\", \"format\": \"date\"}\n",
        "        },\n",
        "        \"required\": [\"name\", \"patient_id\", \"birth_date\", \"age\", \"gender\", \"address\", \"email\"]\n",
        "    }\n",
        "}"
      ],
      "metadata": {
        "id": "AutO2Fumg_P1"
      },
      "execution_count": 4,
      "outputs": []
    },
    {
      "cell_type": "markdown",
      "source": [
        "**Define PDF and OpenAI Functions**\n",
        "\n",
        "We use the **extract_text** library function to get the text from the PDF that was uploads.\n"
      ],
      "metadata": {
        "id": "nbYtVoRGhO3J"
      }
    },
    {
      "cell_type": "code",
      "source": [
        "from pdfminer.high_level import extract_text\n",
        "\n",
        "def extract_text_from_pdf(path: str) -> str:\n",
        "    return extract_text(path)\n",
        "\n",
        "pdf_text = extract_text_from_pdf(pdf_filename)\n",
        "print(\"✅ PDF text extracted. Sample preview:\\n\")\n",
        "print(pdf_text[:1000])\n"
      ],
      "metadata": {
        "colab": {
          "base_uri": "https://localhost:8080/"
        },
        "id": "FXdQ_28ehVpH",
        "outputId": "2771685c-00d9-4467-ab0e-9f79f9995241"
      },
      "execution_count": 5,
      "outputs": [
        {
          "output_type": "stream",
          "name": "stdout",
          "text": [
            "✅ PDF text extracted. Sample preview:\n",
            "\n",
            "PATIENT CHART  \n",
            "HONOUR, EDWARD\n",
            "123 S MAIN STREET CHICAGO IL  60611 \n",
            "O: (312) 555-1212(preferred)\n",
            "\n",
            "DOB: 8/15/1966  AGE: 58 yrs.  Acct#: 148\n",
            "\n",
            "DEMOGRAPHICS\n",
            "\n",
            "NAME: HONOUR, EDWARD\n",
            "PATIENT ID/#: 148\n",
            "MRN:\n",
            "BIRTH DATE: 8/15/1966\n",
            "AGE: 58 yrs.\n",
            "GENDER: M\n",
            "ADDRESS: 123 S MAIN STREET\n",
            "\n",
            "CHICAGO IL  60611\n",
            "\n",
            "Home:\n",
            "Work:\n",
            "Cell: (202) 555-1212\n",
            "EMAIL: ED@EXAMPLE.COM\n",
            "PROVIDER: SMITH, JOHN, MD\n",
            "REFERRING PROVIDER: JOHN SMITH\n",
            "STE A\n",
            "3196 E ELM STREET\n",
            "CHICAGO IL  60611\n",
            "(773) 555-1212\n",
            "\n",
            "ALLERGIES\n",
            "\n",
            "No data on file\n",
            "\n",
            "MEDICATION DETAIL\n",
            "\n",
            "Current:\n",
            "SIG: epinephrine 0.15 mg/0.3 mL injection auto-injector, 0 days, Dispense #2 Each, 0 Refills, Directions: administer 0.15mg \n",
            "subcutaneously as needed\n",
            "8/8/2023 SMITH,JOHN,MD\n",
            "----------------------------------\n",
            "Current:\n",
            "SIG: lisinopril 20 mg oral tablet, 90 days, Dispense #90 Tablet, 0 Refills, Directions: Pt to take 1 tablet po a day\n",
            "2/9/2024 SMITH,JOHN,MD\n",
            "----------------------------------\n",
            "Current:\n",
            "SIG: finasteride 1 mg oral tablet, 60 days, Dispense #60 Tablet, 0 Refills, Directi\n"
          ]
        }
      ]
    },
    {
      "cell_type": "markdown",
      "source": [
        "**Extract Data**\n",
        "\n",
        "We are using the gpt-4o-mini to extract data and put the results into function_schema.\n"
      ],
      "metadata": {
        "id": "GTMaL0CEhpRZ"
      }
    },
    {
      "cell_type": "code",
      "source": [
        "import json\n",
        "\n",
        "def call_extraction(text: str, function_schema: dict) -> dict:\n",
        "    response = client.chat.completions.create(\n",
        "        model=\"gpt-4o-mini\",\n",
        "        temperature=0.0,\n",
        "        messages=[\n",
        "            {\"role\": \"system\", \"content\": \"You are a medical data extractor.\"},\n",
        "            {\"role\": \"user\", \"content\": text}\n",
        "        ],\n",
        "        functions=[function_schema],\n",
        "        function_call={\"name\": function_schema[\"name\"]}\n",
        "    )\n",
        "    args = response.choices[0].message.function_call.arguments\n",
        "    return json.loads(args)\n",
        "\n",
        "try:\n",
        "    patient_info = call_extraction(pdf_text, patient_info_function)\n",
        "    print(\"✅ Patient Info Extracted:\\n\")\n",
        "    print(json.dumps(patient_info, indent=2))\n",
        "except Exception as e:\n",
        "    print(\"❌ Extraction failed:\", str(e))\n",
        "\n"
      ],
      "metadata": {
        "colab": {
          "base_uri": "https://localhost:8080/"
        },
        "id": "rmkyyYmKhsIG",
        "outputId": "9acf6f3a-79bd-4790-fcb1-7fbbf8d00013"
      },
      "execution_count": 6,
      "outputs": [
        {
          "output_type": "stream",
          "name": "stdout",
          "text": [
            "✅ Patient Info Extracted:\n",
            "\n",
            "{\n",
            "  \"name\": \"HONOUR, EDWARD\",\n",
            "  \"patient_id\": \"148\",\n",
            "  \"birth_date\": \"1966-08-15\",\n",
            "  \"age\": 58,\n",
            "  \"gender\": \"M\",\n",
            "  \"address\": \"123 S MAIN STREET, CHICAGO IL 60611\",\n",
            "  \"phone\": {\n",
            "    \"home\": \"(312) 555-1212\",\n",
            "    \"cell\": \"(202) 555-1212\"\n",
            "  },\n",
            "  \"email\": \"ED@EXAMPLE.COM\",\n",
            "  \"provider\": \"SMITH, JOHN, MD\",\n",
            "  \"referring_provider\": \"JOHN SMITH\",\n",
            "  \"print_date\": \"2025-05-13\"\n",
            "}\n"
          ]
        }
      ]
    }
  ]
}